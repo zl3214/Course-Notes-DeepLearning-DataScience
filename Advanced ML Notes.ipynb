{
 "cells": [
  {
   "cell_type": "markdown",
   "id": "0d54d644",
   "metadata": {},
   "source": [
    "Unsupervised Learning\n",
    "Categoring\n",
    "Motivating Applications:\n",
    "    Recommendations (Netflix groups ages by preference)\n",
    "    Segementation (Speech, Vision)\n",
    "        Vision: each pixel is one of the Xi's"
   ]
  }
 ],
 "metadata": {
  "kernelspec": {
   "display_name": "Python 3 (ipykernel)",
   "language": "python",
   "name": "python3"
  },
  "language_info": {
   "codemirror_mode": {
    "name": "ipython",
    "version": 3
   },
   "file_extension": ".py",
   "mimetype": "text/x-python",
   "name": "python",
   "nbconvert_exporter": "python",
   "pygments_lexer": "ipython3",
   "version": "3.9.12"
  }
 },
 "nbformat": 4,
 "nbformat_minor": 5
}
